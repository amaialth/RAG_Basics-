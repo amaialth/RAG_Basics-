{
 "cells": [
  {
   "cell_type": "markdown",
   "id": "d7fe1f79",
   "metadata": {},
   "source": [
    "## Step 1. Load LLM - Ollama"
   ]
  },
  {
   "cell_type": "code",
   "execution_count": null,
   "id": "b128aa40",
   "metadata": {},
   "outputs": [],
   "source": []
  }
 ],
 "metadata": {
  "kernelspec": {
   "display_name": "myenv",
   "language": "python",
   "name": "python3"
  },
  "language_info": {
   "codemirror_mode": {
    "name": "ipython",
    "version": 3
   },
   "file_extension": ".py",
   "mimetype": "text/x-python",
   "name": "python",
   "nbconvert_exporter": "python",
   "pygments_lexer": "ipython3",
   "version": "3.13.3"
  }
 },
 "nbformat": 4,
 "nbformat_minor": 5
}
